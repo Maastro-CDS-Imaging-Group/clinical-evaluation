{
 "cells": [
  {
   "cell_type": "code",
   "execution_count": 19,
   "id": "da6f4853",
   "metadata": {},
   "outputs": [],
   "source": [
    "import SimpleITK as sitk\n",
    "import matplotlib.pyplot as plt\n",
    "from clinical_evaluation.registration_tools import pipeline, regviz\n",
    "from clinical_evaluation.utils import preprocess, metrics, ops\n",
    "from pathlib import Path\n",
    "import pandas as pd"
   ]
  },
  {
   "cell_type": "code",
   "execution_count": 3,
   "id": "3fd65e99",
   "metadata": {},
   "outputs": [],
   "source": [
    "in_folder = Path(\"/media/bro/brossd/maastro_data/pairs_nrrd/\")"
   ]
  },
  {
   "cell_type": "code",
   "execution_count": 5,
   "id": "c9109e5e",
   "metadata": {},
   "outputs": [],
   "source": [
    "patient_paths = [x for x in in_folder.iterdir() if x.is_dir()]"
   ]
  },
  {
   "cell_type": "code",
   "execution_count": 7,
   "id": "b2934166",
   "metadata": {},
   "outputs": [
    {
     "data": {
      "text/plain": [
       "[PosixPath('/media/bro/brossd/maastro_data/pairs_nrrd/P0439C0006I13361557'),\n",
       " PosixPath('/media/bro/brossd/maastro_data/pairs_nrrd/P0439C0006I13365702'),\n",
       " PosixPath('/media/bro/brossd/maastro_data/pairs_nrrd/P0439C0006I13367522'),\n",
       " PosixPath('/media/bro/brossd/maastro_data/pairs_nrrd/P0439C0006I13367533'),\n",
       " PosixPath('/media/bro/brossd/maastro_data/pairs_nrrd/P0439C0006I13367565'),\n",
       " PosixPath('/media/bro/brossd/maastro_data/pairs_nrrd/P0439C0006I13367923'),\n",
       " PosixPath('/media/bro/brossd/maastro_data/pairs_nrrd/P0439C0006I13367924'),\n",
       " PosixPath('/media/bro/brossd/maastro_data/pairs_nrrd/P0439C0006I13367986'),\n",
       " PosixPath('/media/bro/brossd/maastro_data/pairs_nrrd/P0439C0006I13368195'),\n",
       " PosixPath('/media/bro/brossd/maastro_data/pairs_nrrd/P0439C0006I13368237'),\n",
       " PosixPath('/media/bro/brossd/maastro_data/pairs_nrrd/P0439C0006I13368284'),\n",
       " PosixPath('/media/bro/brossd/maastro_data/pairs_nrrd/P0439C0006I13368541'),\n",
       " PosixPath('/media/bro/brossd/maastro_data/pairs_nrrd/P0439C0006I13368543'),\n",
       " PosixPath('/media/bro/brossd/maastro_data/pairs_nrrd/P0439C0006I13368798'),\n",
       " PosixPath('/media/bro/brossd/maastro_data/pairs_nrrd/P0439C0006I13368985'),\n",
       " PosixPath('/media/bro/brossd/maastro_data/pairs_nrrd/P0439C0006I13369049'),\n",
       " PosixPath('/media/bro/brossd/maastro_data/pairs_nrrd/P0439C0006I13369085'),\n",
       " PosixPath('/media/bro/brossd/maastro_data/pairs_nrrd/P0439C0006I13369204'),\n",
       " PosixPath('/media/bro/brossd/maastro_data/pairs_nrrd/P0439C0006I13369293'),\n",
       " PosixPath('/media/bro/brossd/maastro_data/pairs_nrrd/P0439C0006I13369619')]"
      ]
     },
     "execution_count": 7,
     "metadata": {},
     "output_type": "execute_result"
    }
   ],
   "source": [
    "patient_paths"
   ]
  },
  {
   "cell_type": "code",
   "execution_count": 9,
   "id": "dae25e79",
   "metadata": {},
   "outputs": [],
   "source": [
    "patients_start_end = [\n",
    "    [12, 68],\n",
    "    [16, 74],\n",
    "    [16, 70],\n",
    "    [9, 68],\n",
    "    [8, 71],\n",
    "    [10, 69],\n",
    "    [8, 66],\n",
    "    [21, 61],\n",
    "    [19, 68],\n",
    "    [9, 66],\n",
    "    [11, 67],\n",
    "    [17, 65],\n",
    "    [18, 63],\n",
    "    [8, 68],\n",
    "    [11, 68],\n",
    "    [9, 66],\n",
    "    [8, 71],\n",
    "    [17, 66],\n",
    "    [12, 69],\n",
    "    [18, 67],\n",
    "    \n",
    "]"
   ]
  },
  {
   "cell_type": "code",
   "execution_count": 25,
   "id": "85c00bfd",
   "metadata": {},
   "outputs": [
    {
     "data": {
      "text/plain": [
       "dict_keys([None])"
      ]
     },
     "execution_count": 25,
     "metadata": {},
     "output_type": "execute_result"
    }
   ],
   "source": [
    "{None: \"a\"}.keys()"
   ]
  },
  {
   "cell_type": "code",
   "execution_count": 10,
   "id": "a6853433",
   "metadata": {},
   "outputs": [],
   "source": [
    "patients_start_end = {patient_paths[i]:patiens_start_end[i] for i in range(len(patient_paths))}"
   ]
  },
  {
   "cell_type": "code",
   "execution_count": 12,
   "id": "91e6666b",
   "metadata": {},
   "outputs": [
    {
     "data": {
      "text/plain": [
       "{PosixPath('/media/bro/brossd/maastro_data/pairs_nrrd/P0439C0006I13361557'): [12,\n",
       "  68],\n",
       " PosixPath('/media/bro/brossd/maastro_data/pairs_nrrd/P0439C0006I13365702'): [16,\n",
       "  74],\n",
       " PosixPath('/media/bro/brossd/maastro_data/pairs_nrrd/P0439C0006I13367522'): [16,\n",
       "  70],\n",
       " PosixPath('/media/bro/brossd/maastro_data/pairs_nrrd/P0439C0006I13367533'): [9,\n",
       "  68],\n",
       " PosixPath('/media/bro/brossd/maastro_data/pairs_nrrd/P0439C0006I13367565'): [8,\n",
       "  71],\n",
       " PosixPath('/media/bro/brossd/maastro_data/pairs_nrrd/P0439C0006I13367923'): [10,\n",
       "  69],\n",
       " PosixPath('/media/bro/brossd/maastro_data/pairs_nrrd/P0439C0006I13367924'): [8,\n",
       "  66],\n",
       " PosixPath('/media/bro/brossd/maastro_data/pairs_nrrd/P0439C0006I13367986'): [21,\n",
       "  61],\n",
       " PosixPath('/media/bro/brossd/maastro_data/pairs_nrrd/P0439C0006I13368195'): [19,\n",
       "  68],\n",
       " PosixPath('/media/bro/brossd/maastro_data/pairs_nrrd/P0439C0006I13368237'): [9,\n",
       "  66],\n",
       " PosixPath('/media/bro/brossd/maastro_data/pairs_nrrd/P0439C0006I13368284'): [11,\n",
       "  67],\n",
       " PosixPath('/media/bro/brossd/maastro_data/pairs_nrrd/P0439C0006I13368541'): [17,\n",
       "  65],\n",
       " PosixPath('/media/bro/brossd/maastro_data/pairs_nrrd/P0439C0006I13368543'): [18,\n",
       "  63],\n",
       " PosixPath('/media/bro/brossd/maastro_data/pairs_nrrd/P0439C0006I13368798'): [8,\n",
       "  68],\n",
       " PosixPath('/media/bro/brossd/maastro_data/pairs_nrrd/P0439C0006I13368985'): [11,\n",
       "  68],\n",
       " PosixPath('/media/bro/brossd/maastro_data/pairs_nrrd/P0439C0006I13369049'): [9,\n",
       "  66],\n",
       " PosixPath('/media/bro/brossd/maastro_data/pairs_nrrd/P0439C0006I13369085'): [8,\n",
       "  71],\n",
       " PosixPath('/media/bro/brossd/maastro_data/pairs_nrrd/P0439C0006I13369204'): [17,\n",
       "  66],\n",
       " PosixPath('/media/bro/brossd/maastro_data/pairs_nrrd/P0439C0006I13369293'): [12,\n",
       "  69],\n",
       " PosixPath('/media/bro/brossd/maastro_data/pairs_nrrd/P0439C0006I13369619'): [18,\n",
       "  67]}"
      ]
     },
     "execution_count": 12,
     "metadata": {},
     "output_type": "execute_result"
    }
   ],
   "source": [
    "patients_start_end"
   ]
  },
  {
   "cell_type": "code",
   "execution_count": null,
   "id": "554e8696",
   "metadata": {},
   "outputs": [],
   "source": [
    "# {PosixPath('/media/bro/brossd/maastro_data/pairs_nrrd/P0439C0006I13361557'): [12,\n",
    "#   68],\n",
    "#  PosixPath('/media/bro/brossd/maastro_data/pairs_nrrd/P0439C0006I13365702'): [16,\n",
    "#   74],\n",
    "#  PosixPath('/media/bro/brossd/maastro_data/pairs_nrrd/P0439C0006I13367522'): [16,\n",
    "#   70],\n",
    "#  PosixPath('/media/bro/brossd/maastro_data/pairs_nrrd/P0439C0006I13367533'): [9,\n",
    "#   68],\n",
    "#  PosixPath('/media/bro/brossd/maastro_data/pairs_nrrd/P0439C0006I13367565'): [8,\n",
    "#   71],\n",
    "#  PosixPath('/media/bro/brossd/maastro_data/pairs_nrrd/P0439C0006I13367923'): [10,\n",
    "#   69],\n",
    "#  PosixPath('/media/bro/brossd/maastro_data/pairs_nrrd/P0439C0006I13367924'): [8,\n",
    "#   66],\n",
    "#  PosixPath('/media/bro/brossd/maastro_data/pairs_nrrd/P0439C0006I13367986'): [21,\n",
    "#   61],\n",
    "#  PosixPath('/media/bro/brossd/maastro_data/pairs_nrrd/P0439C0006I13368195'): [19,\n",
    "#   68],\n",
    "#  PosixPath('/media/bro/brossd/maastro_data/pairs_nrrd/P0439C0006I13368237'): [9,\n",
    "#   66],\n",
    "#  PosixPath('/media/bro/brossd/maastro_data/pairs_nrrd/P0439C0006I13368284'): [11,\n",
    "#   67],\n",
    "#  PosixPath('/media/bro/brossd/maastro_data/pairs_nrrd/P0439C0006I13368541'): [17,\n",
    "#   65],\n",
    "#  PosixPath('/media/bro/brossd/maastro_data/pairs_nrrd/P0439C0006I13368543'): [18,\n",
    "#   63],\n",
    "#  PosixPath('/media/bro/brossd/maastro_data/pairs_nrrd/P0439C0006I13368798'): [8,\n",
    "#   68],\n",
    "#  PosixPath('/media/bro/brossd/maastro_data/pairs_nrrd/P0439C0006I13368985'): [11,\n",
    "#   68],\n",
    "#  PosixPath('/media/bro/brossd/maastro_data/pairs_nrrd/P0439C0006I13369049'): [9,\n",
    "#   66],\n",
    "#  PosixPath('/media/bro/brossd/maastro_data/pairs_nrrd/P0439C0006I13369085'): [8,\n",
    "#   71],\n",
    "#  PosixPath('/media/bro/brossd/maastro_data/pairs_nrrd/P0439C0006I13369204'): [17,\n",
    "#   66],\n",
    "#  PosixPath('/media/bro/brossd/maastro_data/pairs_nrrd/P0439C0006I13369293'): [12,\n",
    "#   69],\n",
    "#  PosixPath('/media/bro/brossd/maastro_data/pairs_nrrd/P0439C0006I13369619'): [18,\n",
    "#   67]}"
   ]
  },
  {
   "cell_type": "code",
   "execution_count": 22,
   "id": "47722e07",
   "metadata": {},
   "outputs": [],
   "source": [
    "import shutil\n",
    "\n",
    "out_folder = \"/media/bro/brossd/maastro_data/pairs_nrrd_shortened/\"\n",
    "\n",
    "for path in patient_paths:\n",
    "    CT = list(path.rglob(\"CT.nrrd\"))[0]\n",
    "    CBCT = list(path.rglob(\"CBCT.nrrd\"))[0]\n",
    "    \n",
    "    out_CT_folder = (out_folder / CT.relative_to(path.parent).parent)\n",
    "    out_CBCT_folder = (out_folder / CBCT.relative_to(path.parent).parent)\n",
    "    \n",
    "    out_CT_folder.mkdir(parents=True, exist_ok=True)\n",
    "    out_CBCT_folder.mkdir(parents=True, exist_ok=True)\n",
    "    \n",
    "    CBCT_sitk = sitk.ReadImage(str(CBCT))\n",
    "    start, end = patients_start_end[path]\n",
    "    CBCT_sitk = ops.slice_image(CBCT_sitk, (0, 0, start), (-1, -1, end))\n",
    "    sitk.WriteImage(CBCT_sitk, str(out_CBCT_folder / \"CBCT.nrrd\"), True)\n",
    "    \n",
    "    shutil.copy(CT, out_CT_folder)"
   ]
  },
  {
   "cell_type": "code",
   "execution_count": null,
   "id": "efada22d",
   "metadata": {},
   "outputs": [],
   "source": []
  },
  {
   "cell_type": "code",
   "execution_count": null,
   "id": "30ea7126",
   "metadata": {},
   "outputs": [],
   "source": []
  }
 ],
 "metadata": {
  "kernelspec": {
   "display_name": "Python 3",
   "language": "python",
   "name": "python3"
  },
  "language_info": {
   "codemirror_mode": {
    "name": "ipython",
    "version": 3
   },
   "file_extension": ".py",
   "mimetype": "text/x-python",
   "name": "python",
   "nbconvert_exporter": "python",
   "pygments_lexer": "ipython3",
   "version": "3.8.8"
  }
 },
 "nbformat": 4,
 "nbformat_minor": 5
}
