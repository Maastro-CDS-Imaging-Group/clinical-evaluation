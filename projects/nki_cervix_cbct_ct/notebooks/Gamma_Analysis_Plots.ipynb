{
 "cells": [
  {
   "cell_type": "code",
   "execution_count": 1,
   "id": "broke-taylor",
   "metadata": {},
   "outputs": [],
   "source": [
    "import pandas as pd\n",
    "import matplotlib.pyplot as plt\n",
    "import seaborn as sns"
   ]
  },
  {
   "cell_type": "code",
   "execution_count": 2,
   "id": "atmospheric-moisture",
   "metadata": {},
   "outputs": [],
   "source": [
    "# Read csv file with Gamma Analysis results\n",
    "gamma_results = pd.read_csv(\"/home/suraj/Workspace/results/NKI/media_results/test_predictions/ssim/matrad_gamma_results.csv\", index_col=0)"
   ]
  },
  {
   "cell_type": "code",
   "execution_count": 3,
   "id": "outstanding-genetics",
   "metadata": {},
   "outputs": [
    {
     "data": {
      "text/html": [
       "<div>\n",
       "<style scoped>\n",
       "    .dataframe tbody tr th:only-of-type {\n",
       "        vertical-align: middle;\n",
       "    }\n",
       "\n",
       "    .dataframe tbody tr th {\n",
       "        vertical-align: top;\n",
       "    }\n",
       "\n",
       "    .dataframe thead th {\n",
       "        text-align: right;\n",
       "    }\n",
       "</style>\n",
       "<table border=\"1\" class=\"dataframe\">\n",
       "  <thead>\n",
       "    <tr style=\"text-align: right;\">\n",
       "      <th></th>\n",
       "      <th>CBCT_passing_rate_1%_1mm</th>\n",
       "      <th>CBCT_passing_rate_1%_2mm</th>\n",
       "      <th>CBCT_passing_rate_2%_2mm</th>\n",
       "      <th>CBCT_passing_rate_3%_3mm</th>\n",
       "      <th>Patient</th>\n",
       "      <th>SCT_passing_rate_1%_1mm</th>\n",
       "      <th>SCT_passing_rate_1%_2mm</th>\n",
       "      <th>SCT_passing_rate_2%_2mm</th>\n",
       "      <th>SCT_passing_rate_3%_3mm</th>\n",
       "    </tr>\n",
       "  </thead>\n",
       "  <tbody>\n",
       "    <tr>\n",
       "      <th>0</th>\n",
       "      <td>66.831309</td>\n",
       "      <td>85.717629</td>\n",
       "      <td>94.665476</td>\n",
       "      <td>98.922138</td>\n",
       "      <td>21902070</td>\n",
       "      <td>79.334950</td>\n",
       "      <td>92.448776</td>\n",
       "      <td>97.561087</td>\n",
       "      <td>99.608677</td>\n",
       "    </tr>\n",
       "    <tr>\n",
       "      <th>1</th>\n",
       "      <td>59.393611</td>\n",
       "      <td>78.664891</td>\n",
       "      <td>89.617108</td>\n",
       "      <td>97.236926</td>\n",
       "      <td>21812351</td>\n",
       "      <td>61.426823</td>\n",
       "      <td>79.610979</td>\n",
       "      <td>89.666977</td>\n",
       "      <td>96.810838</td>\n",
       "    </tr>\n",
       "    <tr>\n",
       "      <th>2</th>\n",
       "      <td>50.344335</td>\n",
       "      <td>64.595856</td>\n",
       "      <td>73.453694</td>\n",
       "      <td>85.395584</td>\n",
       "      <td>21610115</td>\n",
       "      <td>57.610488</td>\n",
       "      <td>72.544279</td>\n",
       "      <td>81.913833</td>\n",
       "      <td>91.236173</td>\n",
       "    </tr>\n",
       "    <tr>\n",
       "      <th>3</th>\n",
       "      <td>92.037674</td>\n",
       "      <td>96.598385</td>\n",
       "      <td>99.335239</td>\n",
       "      <td>99.971205</td>\n",
       "      <td>21812310</td>\n",
       "      <td>93.673608</td>\n",
       "      <td>97.247257</td>\n",
       "      <td>99.716855</td>\n",
       "      <td>99.995805</td>\n",
       "    </tr>\n",
       "    <tr>\n",
       "      <th>4</th>\n",
       "      <td>78.417926</td>\n",
       "      <td>90.239116</td>\n",
       "      <td>95.767395</td>\n",
       "      <td>98.725077</td>\n",
       "      <td>21605144</td>\n",
       "      <td>84.108867</td>\n",
       "      <td>94.174296</td>\n",
       "      <td>98.708441</td>\n",
       "      <td>99.862775</td>\n",
       "    </tr>\n",
       "  </tbody>\n",
       "</table>\n",
       "</div>"
      ],
      "text/plain": [
       "   CBCT_passing_rate_1%_1mm  CBCT_passing_rate_1%_2mm  \\\n",
       "0                 66.831309                 85.717629   \n",
       "1                 59.393611                 78.664891   \n",
       "2                 50.344335                 64.595856   \n",
       "3                 92.037674                 96.598385   \n",
       "4                 78.417926                 90.239116   \n",
       "\n",
       "   CBCT_passing_rate_2%_2mm  CBCT_passing_rate_3%_3mm   Patient  \\\n",
       "0                 94.665476                 98.922138  21902070   \n",
       "1                 89.617108                 97.236926  21812351   \n",
       "2                 73.453694                 85.395584  21610115   \n",
       "3                 99.335239                 99.971205  21812310   \n",
       "4                 95.767395                 98.725077  21605144   \n",
       "\n",
       "   SCT_passing_rate_1%_1mm  SCT_passing_rate_1%_2mm  SCT_passing_rate_2%_2mm  \\\n",
       "0                79.334950                92.448776                97.561087   \n",
       "1                61.426823                79.610979                89.666977   \n",
       "2                57.610488                72.544279                81.913833   \n",
       "3                93.673608                97.247257                99.716855   \n",
       "4                84.108867                94.174296                98.708441   \n",
       "\n",
       "   SCT_passing_rate_3%_3mm  \n",
       "0                99.608677  \n",
       "1                96.810838  \n",
       "2                91.236173  \n",
       "3                99.995805  \n",
       "4                99.862775  "
      ]
     },
     "execution_count": 3,
     "metadata": {},
     "output_type": "execute_result"
    }
   ],
   "source": [
    "gamma_results.head()"
   ]
  },
  {
   "cell_type": "code",
   "execution_count": 4,
   "id": "recovered-organic",
   "metadata": {},
   "outputs": [],
   "source": [
    "processed_gamma_results = pd.DataFrame()\n",
    "\n",
    "gamma_rate_labels = [tag for tag in gamma_results.columns if 'rate' in tag]\n",
    "\n",
    "processed_gamma_results[\"gamma\"] = pd.concat([gamma_results[tag] for tag in gamma_rate_labels])\n",
    "processed_gamma_results[\"config\"] = pd.concat([pd.Series([tag.split(\"_\", 3)[-1].replace('_', '/')] * len(gamma_results)) for tag in gamma_rate_labels])\n",
    "processed_gamma_results[\"modality\"]  = [\"CBCT\"] * (len(processed_gamma_results[\"config\"])//2) + [\"sCT\"] * (len(processed_gamma_results[\"config\"])//2)\n"
   ]
  },
  {
   "cell_type": "code",
   "execution_count": 5,
   "id": "extreme-assembly",
   "metadata": {},
   "outputs": [
    {
     "data": {
      "text/html": [
       "<div>\n",
       "<style scoped>\n",
       "    .dataframe tbody tr th:only-of-type {\n",
       "        vertical-align: middle;\n",
       "    }\n",
       "\n",
       "    .dataframe tbody tr th {\n",
       "        vertical-align: top;\n",
       "    }\n",
       "\n",
       "    .dataframe thead th {\n",
       "        text-align: right;\n",
       "    }\n",
       "</style>\n",
       "<table border=\"1\" class=\"dataframe\">\n",
       "  <thead>\n",
       "    <tr style=\"text-align: right;\">\n",
       "      <th></th>\n",
       "      <th>gamma</th>\n",
       "      <th>config</th>\n",
       "      <th>modality</th>\n",
       "    </tr>\n",
       "  </thead>\n",
       "  <tbody>\n",
       "    <tr>\n",
       "      <th>0</th>\n",
       "      <td>66.831309</td>\n",
       "      <td>1%/1mm</td>\n",
       "      <td>CBCT</td>\n",
       "    </tr>\n",
       "    <tr>\n",
       "      <th>1</th>\n",
       "      <td>59.393611</td>\n",
       "      <td>1%/1mm</td>\n",
       "      <td>CBCT</td>\n",
       "    </tr>\n",
       "    <tr>\n",
       "      <th>2</th>\n",
       "      <td>50.344335</td>\n",
       "      <td>1%/1mm</td>\n",
       "      <td>CBCT</td>\n",
       "    </tr>\n",
       "    <tr>\n",
       "      <th>3</th>\n",
       "      <td>92.037674</td>\n",
       "      <td>1%/1mm</td>\n",
       "      <td>CBCT</td>\n",
       "    </tr>\n",
       "    <tr>\n",
       "      <th>4</th>\n",
       "      <td>78.417926</td>\n",
       "      <td>1%/1mm</td>\n",
       "      <td>CBCT</td>\n",
       "    </tr>\n",
       "  </tbody>\n",
       "</table>\n",
       "</div>"
      ],
      "text/plain": [
       "       gamma  config modality\n",
       "0  66.831309  1%/1mm     CBCT\n",
       "1  59.393611  1%/1mm     CBCT\n",
       "2  50.344335  1%/1mm     CBCT\n",
       "3  92.037674  1%/1mm     CBCT\n",
       "4  78.417926  1%/1mm     CBCT"
      ]
     },
     "execution_count": 5,
     "metadata": {},
     "output_type": "execute_result"
    }
   ],
   "source": [
    "processed_gamma_results.head()"
   ]
  },
  {
   "cell_type": "code",
   "execution_count": 9,
   "id": "german-million",
   "metadata": {},
   "outputs": [
    {
     "data": {
      "text/plain": [
       "Text(0, 0.5, 'Pass rates')"
      ]
     },
     "execution_count": 9,
     "metadata": {},
     "output_type": "execute_result"
    },
    {
     "data": {
      "image/png": "[encoded data removed]",
      "text/plain": [
       "<Figure size 720x720 with 1 Axes>"
      ]
     },
     "metadata": {},
     "output_type": "display_data"
    }
   ],
   "source": [
    "# Plot the gamma values in a box plot\n",
    "f = plt.figure(figsize=(10, 10))\n",
    "sns.set_theme(style=\"ticks\", palette=\"vlag\")\n",
    "sns.boxplot(data=processed_gamma_results, x=\"config\", y=\"gamma\", hue=\"modality\", showmeans=True)\n",
    "# plt.xticks(rotation=45)\n",
    "sns.despine(offset=10, trim=True)\n",
    "plt.xlabel('Gamma DD/DTA')\n",
    "plt.ylabel('Pass rates')"
   ]
  },
  {
   "cell_type": "code",
   "execution_count": null,
   "id": "confidential-capitol",
   "metadata": {},
   "outputs": [],
   "source": []
  }
 ],
 "metadata": {
  "kernelspec": {
   "display_name": "Python 3",
   "language": "python",
   "name": "python3"
  },
  "language_info": {
   "codemirror_mode": {
    "name": "ipython",
    "version": 3
   },
   "file_extension": ".py",
   "mimetype": "text/x-python",
   "name": "python",
   "nbconvert_exporter": "python",
   "pygments_lexer": "ipython3",
   "version": "3.8.5"
  }
 },
 "nbformat": 4,
 "nbformat_minor": 5
}
