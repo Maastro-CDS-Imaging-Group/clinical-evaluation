{
 "cells": [
  {
   "cell_type": "code",
   "execution_count": 30,
   "id": "moving-escape",
   "metadata": {},
   "outputs": [],
   "source": [
    "import pandas as pd\n",
    "import matplotlib.pyplot as plt\n",
    "import seaborn as sns"
   ]
  },
  {
   "cell_type": "code",
   "execution_count": 35,
   "id": "constitutional-poverty",
   "metadata": {},
   "outputs": [],
   "source": [
    "# Read csv file with Gamma Analysis results\n",
    "gamma_results = pd.read_csv(\"/home/suraj/Repositories/data/NKI/media_results/test_predictions/ssim/matrad_gamma_results.csv\", index_col=0)"
   ]
  },
  {
   "cell_type": "code",
   "execution_count": 127,
   "id": "turkish-incentive",
   "metadata": {},
   "outputs": [
    {
     "data": {
      "text/html": [
       "<div>\n",
       "<style scoped>\n",
       "    .dataframe tbody tr th:only-of-type {\n",
       "        vertical-align: middle;\n",
       "    }\n",
       "\n",
       "    .dataframe tbody tr th {\n",
       "        vertical-align: top;\n",
       "    }\n",
       "\n",
       "    .dataframe thead th {\n",
       "        text-align: right;\n",
       "    }\n",
       "</style>\n",
       "<table border=\"1\" class=\"dataframe\">\n",
       "  <thead>\n",
       "    <tr style=\"text-align: right;\">\n",
       "      <th></th>\n",
       "      <th>CBCT_passing_rate_1%_1mm</th>\n",
       "      <th>CBCT_passing_rate_1%_2mm</th>\n",
       "      <th>CBCT_passing_rate_2%_2mm</th>\n",
       "      <th>CBCT_passing_rate_3%_3mm</th>\n",
       "      <th>SCT_passing_rate_1%_1mm</th>\n",
       "      <th>SCT_passing_rate_1%_2mm</th>\n",
       "      <th>SCT_passing_rate_2%_2mm</th>\n",
       "      <th>SCT_passing_rate_3%_3mm</th>\n",
       "      <th>1%/1mm</th>\n",
       "    </tr>\n",
       "  </thead>\n",
       "  <tbody>\n",
       "    <tr>\n",
       "      <th>0</th>\n",
       "      <td>66.831309</td>\n",
       "      <td>85.717629</td>\n",
       "      <td>94.665476</td>\n",
       "      <td>98.922138</td>\n",
       "      <td>79.334950</td>\n",
       "      <td>92.448776</td>\n",
       "      <td>97.561087</td>\n",
       "      <td>99.608677</td>\n",
       "      <td>66.831309</td>\n",
       "    </tr>\n",
       "    <tr>\n",
       "      <th>1</th>\n",
       "      <td>59.393611</td>\n",
       "      <td>78.664891</td>\n",
       "      <td>89.617108</td>\n",
       "      <td>97.236926</td>\n",
       "      <td>61.426823</td>\n",
       "      <td>79.610979</td>\n",
       "      <td>89.666977</td>\n",
       "      <td>96.810838</td>\n",
       "      <td>59.393611</td>\n",
       "    </tr>\n",
       "    <tr>\n",
       "      <th>2</th>\n",
       "      <td>50.344335</td>\n",
       "      <td>64.595856</td>\n",
       "      <td>73.453694</td>\n",
       "      <td>85.395584</td>\n",
       "      <td>57.610488</td>\n",
       "      <td>72.544279</td>\n",
       "      <td>81.913833</td>\n",
       "      <td>91.236173</td>\n",
       "      <td>50.344335</td>\n",
       "    </tr>\n",
       "    <tr>\n",
       "      <th>3</th>\n",
       "      <td>92.037674</td>\n",
       "      <td>96.598385</td>\n",
       "      <td>99.335239</td>\n",
       "      <td>99.971205</td>\n",
       "      <td>93.673608</td>\n",
       "      <td>97.247257</td>\n",
       "      <td>99.716855</td>\n",
       "      <td>99.995805</td>\n",
       "      <td>92.037674</td>\n",
       "    </tr>\n",
       "    <tr>\n",
       "      <th>4</th>\n",
       "      <td>78.417926</td>\n",
       "      <td>90.239116</td>\n",
       "      <td>95.767395</td>\n",
       "      <td>98.725077</td>\n",
       "      <td>84.108867</td>\n",
       "      <td>94.174296</td>\n",
       "      <td>98.708441</td>\n",
       "      <td>99.862775</td>\n",
       "      <td>78.417926</td>\n",
       "    </tr>\n",
       "  </tbody>\n",
       "</table>\n",
       "</div>"
      ],
      "text/plain": [
       "   CBCT_passing_rate_1%_1mm  CBCT_passing_rate_1%_2mm  \\\n",
       "0                 66.831309                 85.717629   \n",
       "1                 59.393611                 78.664891   \n",
       "2                 50.344335                 64.595856   \n",
       "3                 92.037674                 96.598385   \n",
       "4                 78.417926                 90.239116   \n",
       "\n",
       "   CBCT_passing_rate_2%_2mm  CBCT_passing_rate_3%_3mm  \\\n",
       "0                 94.665476                 98.922138   \n",
       "1                 89.617108                 97.236926   \n",
       "2                 73.453694                 85.395584   \n",
       "3                 99.335239                 99.971205   \n",
       "4                 95.767395                 98.725077   \n",
       "\n",
       "   SCT_passing_rate_1%_1mm  SCT_passing_rate_1%_2mm  SCT_passing_rate_2%_2mm  \\\n",
       "0                79.334950                92.448776                97.561087   \n",
       "1                61.426823                79.610979                89.666977   \n",
       "2                57.610488                72.544279                81.913833   \n",
       "3                93.673608                97.247257                99.716855   \n",
       "4                84.108867                94.174296                98.708441   \n",
       "\n",
       "   SCT_passing_rate_3%_3mm     1%/1mm  \n",
       "0                99.608677  66.831309  \n",
       "1                96.810838  59.393611  \n",
       "2                91.236173  50.344335  \n",
       "3                99.995805  92.037674  \n",
       "4                99.862775  78.417926  "
      ]
     },
     "execution_count": 127,
     "metadata": {},
     "output_type": "execute_result"
    }
   ],
   "source": [
    "gamma_results.head()"
   ]
  },
  {
   "cell_type": "code",
   "execution_count": 124,
   "id": "finished-score",
   "metadata": {},
   "outputs": [],
   "source": [
    "processed_gamma_results = pd.DataFrame()\n",
    "\n",
    "gamma_rate_labels = [tag for tag in gamma_results.columns if 'rate' in tag]\n",
    "\n",
    "processed_gamma_results[\"gamma\"] = pd.concat([gamma_results[tag] for tag in gamma_rate_labels])\n",
    "processed_gamma_results[\"config\"] = pd.concat([pd.Series([tag.split(\"_\", 3)[-1]] * len(gamma_results)) for tag in gamma_rate_labels])\n",
    "processed_gamma_results[\"modality\"]  = [\"CBCT\"] * (len(processed_gamma_results[\"config\"])//2) + [\"sCT\"] * (len(processed_gamma_results[\"config\"])//2)\n"
   ]
  },
  {
   "cell_type": "code",
   "execution_count": 125,
   "id": "inclusive-connection",
   "metadata": {},
   "outputs": [
    {
     "data": {
      "text/html": [
       "<div>\n",
       "<style scoped>\n",
       "    .dataframe tbody tr th:only-of-type {\n",
       "        vertical-align: middle;\n",
       "    }\n",
       "\n",
       "    .dataframe tbody tr th {\n",
       "        vertical-align: top;\n",
       "    }\n",
       "\n",
       "    .dataframe thead th {\n",
       "        text-align: right;\n",
       "    }\n",
       "</style>\n",
       "<table border=\"1\" class=\"dataframe\">\n",
       "  <thead>\n",
       "    <tr style=\"text-align: right;\">\n",
       "      <th></th>\n",
       "      <th>gamma</th>\n",
       "      <th>config</th>\n",
       "      <th>modality</th>\n",
       "    </tr>\n",
       "  </thead>\n",
       "  <tbody>\n",
       "    <tr>\n",
       "      <th>0</th>\n",
       "      <td>66.831309</td>\n",
       "      <td>1%_1mm</td>\n",
       "      <td>CBCT</td>\n",
       "    </tr>\n",
       "    <tr>\n",
       "      <th>1</th>\n",
       "      <td>59.393611</td>\n",
       "      <td>1%_1mm</td>\n",
       "      <td>CBCT</td>\n",
       "    </tr>\n",
       "    <tr>\n",
       "      <th>2</th>\n",
       "      <td>50.344335</td>\n",
       "      <td>1%_1mm</td>\n",
       "      <td>CBCT</td>\n",
       "    </tr>\n",
       "    <tr>\n",
       "      <th>3</th>\n",
       "      <td>92.037674</td>\n",
       "      <td>1%_1mm</td>\n",
       "      <td>CBCT</td>\n",
       "    </tr>\n",
       "    <tr>\n",
       "      <th>4</th>\n",
       "      <td>78.417926</td>\n",
       "      <td>1%_1mm</td>\n",
       "      <td>CBCT</td>\n",
       "    </tr>\n",
       "  </tbody>\n",
       "</table>\n",
       "</div>"
      ],
      "text/plain": [
       "       gamma  config modality\n",
       "0  66.831309  1%_1mm     CBCT\n",
       "1  59.393611  1%_1mm     CBCT\n",
       "2  50.344335  1%_1mm     CBCT\n",
       "3  92.037674  1%_1mm     CBCT\n",
       "4  78.417926  1%_1mm     CBCT"
      ]
     },
     "execution_count": 125,
     "metadata": {},
     "output_type": "execute_result"
    }
   ],
   "source": [
    "processed_gamma_results.head()"
   ]
  },
  {
   "cell_type": "code",
   "execution_count": 126,
   "id": "herbal-easter",
   "metadata": {},
   "outputs": [
    {
     "data": {
      "image/png": "[encoded data removed]",
      "text/plain": [
       "<Figure size 720x720 with 1 Axes>"
      ]
     },
     "metadata": {},
     "output_type": "display_data"
    }
   ],
   "source": [
    "# Plot the gamma values in a box plot\n",
    "f = plt.figure(figsize=(10, 10))\n",
    "sns.set_theme(style=\"ticks\", palette=\"vlag\")\n",
    "sns.boxplot(data=processed_gamma_results, x=\"config\", y=\"gamma\", hue=\"modality\", showmeans=True)\n",
    "# plt.xticks(rotation=45)\n",
    "sns.despine(offset=10, trim=True)"
   ]
  },
  {
   "cell_type": "code",
   "execution_count": null,
   "id": "specified-nursery",
   "metadata": {},
   "outputs": [],
   "source": []
  }
 ],
 "metadata": {
  "kernelspec": {
   "display_name": "Python 3",
   "language": "python",
   "name": "python3"
  },
  "language_info": {
   "codemirror_mode": {
    "name": "ipython",
    "version": 3
   },
   "file_extension": ".py",
   "mimetype": "text/x-python",
   "name": "python",
   "nbconvert_exporter": "python",
   "pygments_lexer": "ipython3",
   "version": "3.8.5"
  }
 },
 "nbformat": 4,
 "nbformat_minor": 5
}
