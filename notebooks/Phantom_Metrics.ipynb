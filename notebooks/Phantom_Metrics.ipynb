{
 "cells": [
  {
   "cell_type": "code",
   "execution_count": 1,
   "metadata": {},
   "outputs": [],
   "source": [
    "import SimpleITK as sitk\n",
    "from pathlib import Path\n",
    "import numpy as np"
   ]
  },
  {
   "cell_type": "code",
   "execution_count": 9,
   "metadata": {},
   "outputs": [],
   "source": [
    "BigConfigPath = Path('/home/suraj/Repositories/data/NKI/phantoms/BigConfig')\n",
    "SmallConfigPath = Path('/home/suraj/Repositories/data/NKI/phantoms/SmallConfig')"
   ]
  },
  {
   "cell_type": "code",
   "execution_count": 10,
   "metadata": {},
   "outputs": [
    {
     "name": "stdout",
     "output_type": "stream",
     "text": [
      "Teflon : 541.4084890965732\n",
      "Polystyrene : 72.63301282051282\n",
      "Acrylic : 122.2694099378882\n",
      "Delrin : 232.07807570977917\n",
      "plate : 98.30144592670503\n",
      "Air : 324.99264705882354\n",
      "LDPE : 52.66222570532915\n"
     ]
    }
   ],
   "source": [
    "masks = {}\n",
    "for fn in BigConfigPath.rglob(\"*.nrrd\"):\n",
    "    if fn.stem == \"CT\":\n",
    "        CT = sitk.ReadImage(str(fn))\n",
    "    else:\n",
    "        masks[fn.stem] = sitk.ReadImage(str(fn))\n",
    "        \n",
    "        \n",
    "phantom_values = {\n",
    "            \"Air\": -1000,\n",
    "            \"LDPE\": -100,\n",
    "            \"Polystyrene\": -35,\n",
    "            \"Acrylic\": 120,\n",
    "            \"Delrin\": 340,\n",
    "            \"Teflon\": 950,\n",
    "            \"plate\": 0\n",
    "        }\n",
    "\n",
    "\n",
    "ct = sitk.GetArrayFromImage(CT)\n",
    "masks = {k: sitk.GetArrayFromImage(v) for k,v in masks.items()}\n",
    "\n",
    "for k,mask in masks.items():\n",
    "    mask = ~mask.astype(np.bool)\n",
    "    masked_array = np.ma.masked_array(ct, mask=mask)\n",
    "    print(f\"{k} : {np.abs(phantom_values[k] - masked_array.mean())}\")\n",
    "    "
   ]
  },
  {
   "cell_type": "code",
   "execution_count": 11,
   "metadata": {},
   "outputs": [
    {
     "name": "stdout",
     "output_type": "stream",
     "text": [
      "Teflon : 258.15024038461536\n",
      "Polystyrene : 40.20961538461539\n",
      "Acrylic : 70.6547987616099\n",
      "Delrin : 112.88679245283018\n",
      "plate : 52.97566643399277\n",
      "Air : 197.21015624999995\n",
      "LDPE : 22.28879310344827\n"
     ]
    }
   ],
   "source": [
    "masks = {}\n",
    "for fn in SmallConfigPath.rglob(\"*.nrrd\"):\n",
    "    if fn.stem == \"CT\":\n",
    "        CT = sitk.ReadImage(str(fn))\n",
    "    else:\n",
    "        masks[fn.stem] = sitk.ReadImage(str(fn))\n",
    "        \n",
    "        \n",
    "phantom_values = {\n",
    "            \"Air\": -1000,\n",
    "            \"LDPE\": -100,\n",
    "            \"Polystyrene\": -35,\n",
    "            \"Acrylic\": 120,\n",
    "            \"Delrin\": 340,\n",
    "            \"Teflon\": 950,\n",
    "            \"plate\": 0\n",
    "        }\n",
    "\n",
    "\n",
    "ct = sitk.GetArrayFromImage(CT)\n",
    "masks = {k: sitk.GetArrayFromImage(v) for k,v in masks.items()}\n",
    "\n",
    "for k,mask in masks.items():\n",
    "    mask = ~mask.astype(np.bool)\n",
    "    masked_array = np.ma.masked_array(ct, mask=mask)\n",
    "    print(f\"{k} : {np.abs(phantom_values[k] - masked_array.mean())}\")"
   ]
  }
 ],
 "metadata": {
  "kernelspec": {
   "display_name": "Python 3",
   "language": "python",
   "name": "python3"
  },
  "language_info": {
   "codemirror_mode": {
    "name": "ipython",
    "version": 3
   },
   "file_extension": ".py",
   "mimetype": "text/x-python",
   "name": "python",
   "nbconvert_exporter": "python",
   "pygments_lexer": "ipython3",
   "version": "3.8.5"
  }
 },
 "nbformat": 4,
 "nbformat_minor": 4
}
