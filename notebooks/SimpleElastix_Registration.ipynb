{
 "cells": [
  {
   "cell_type": "code",
   "execution_count": 1,
   "metadata": {},
   "outputs": [],
   "source": [
    "import SimpleITK as sitk"
   ]
  },
  {
   "cell_type": "code",
   "execution_count": 2,
   "metadata": {},
   "outputs": [],
   "source": [
    "CBCT = sitk.ReadImage(\"/home/suraj/Repositories/data/NKI/valid/21503950/CBCT/X01.nrrd\")\n",
    "CBCT = CBCT - 1024"
   ]
  },
  {
   "cell_type": "code",
   "execution_count": 4,
   "metadata": {},
   "outputs": [],
   "source": [
    "CT = sitk.ReadImage(\"/home/suraj/Repositories/data/NKI/valid/21503950/CT/2/CT.nrrd\")"
   ]
  },
  {
   "cell_type": "code",
   "execution_count": 5,
   "metadata": {},
   "outputs": [],
   "source": [
    "elastix = sitk.ElastixImageFilter()"
   ]
  },
  {
   "cell_type": "code",
   "execution_count": 6,
   "metadata": {},
   "outputs": [
    {
     "data": {
      "text/plain": [
       "<SimpleITK.SimpleITK.ElastixImageFilter; proxy of <Swig Object of type 'itk::simple::ElastixImageFilter::Self *' at 0x7f657521c1b0> >"
      ]
     },
     "execution_count": 6,
     "metadata": {},
     "output_type": "execute_result"
    }
   ],
   "source": [
    "elastix.SetFixedImage(CBCT)\n",
    "elastix.SetMovingImage(CT)\n",
    "\n",
    "pmap1 = elastix.ReadParameterFile(\"/home/suraj/Repositories/clinical-evaluation/elastix_params/Par0032_rigid.txt\")\n",
    "pmap2 = elastix.ReadParameterFile(\"/home/suraj/Repositories/clinical-evaluation/elastix_params/Par0032_bsplines.txt\")\n",
    "pmap = sitk.VectorOfParameterMap()\n",
    "pmap.append(pmap1)\n",
    "pmap.append(pmap2)\n",
    "\n",
    "elastix.SetParameterMap(pmap)"
   ]
  },
  {
   "cell_type": "code",
   "execution_count": 7,
   "metadata": {},
   "outputs": [],
   "source": [
    "result = elastix.Execute()"
   ]
  },
  {
   "cell_type": "code",
   "execution_count": 8,
   "metadata": {},
   "outputs": [],
   "source": [
    "sitk.WriteImage(result, 'deformed.nrrd')"
   ]
  },
  {
   "cell_type": "code",
   "execution_count": 9,
   "metadata": {},
   "outputs": [],
   "source": [
    "sitk.WriteImage(CBCT, 'source.nrrd')"
   ]
  },
  {
   "cell_type": "code",
   "execution_count": null,
   "metadata": {},
   "outputs": [],
   "source": []
  }
 ],
 "metadata": {
  "kernelspec": {
   "display_name": "Python 3",
   "language": "python",
   "name": "python3"
  },
  "language_info": {
   "codemirror_mode": {
    "name": "ipython",
    "version": 3
   },
   "file_extension": ".py",
   "mimetype": "text/x-python",
   "name": "python",
   "nbconvert_exporter": "python",
   "pygments_lexer": "ipython3",
   "version": "3.8.5"
  }
 },
 "nbformat": 4,
 "nbformat_minor": 4
}
